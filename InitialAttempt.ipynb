{
 "cells": [
  {
   "cell_type": "code",
   "execution_count": 2,
   "metadata": {
    "collapsed": true
   },
   "outputs": [],
   "source": [
    "# We use Numpy for  it's wide range of built-in mathematical operations, and array-structure\n",
    "import numpy as np\n",
    "# We use Sympy for symbolic manipulation - in a similar manner to Mathematica\n",
    "import sympy as sym\n",
    "import sympy.core\n",
    "from sympy.solvers.solveset import linsolve\n",
    "# We tell sympy that when printing here, try to ormat as LaTeX\n",
    "sym.init_printing(use_latex=True)"
   ]
  },
  {
   "cell_type": "markdown",
   "metadata": {},
   "source": [
    "## We define a function 'analytic_J', which simply returns the minimised $J$\n",
    "## value obtained from the two analytical solutions"
   ]
  },
  {
   "cell_type": "code",
   "execution_count": 3,
   "metadata": {},
   "outputs": [
    {
     "data": {
      "image/png": "[encoded data removed]",
      "text/latex": [
       "$$4.083691344550609$$"
      ],
      "text/plain": [
       "4.083691344550609"
      ]
     },
     "execution_count": 3,
     "metadata": {},
     "output_type": "execute_result"
    }
   ],
   "source": [
    "def analytic_J(): # Need to update\n",
    "    alpha = (np.exp(2) - 2)/(np.exp(2) - np.exp(-2))\n",
    "    a = (1-alpha)**2\n",
    "    b = np.exp(4)-1\n",
    "    c = alpha**2\n",
    "    d = 1 - np.exp(-4)\n",
    "    return a*b + c*d\n",
    "analytic_J()"
   ]
  },
  {
   "cell_type": "markdown",
   "metadata": {},
   "source": [
    "## We define a function 'analytic_y', which takes an argument 'x', and returns  \n",
    "## $y(x)$, where $y$ is the minimising function obtained in the analytical solutions.\n",
    "## This is useful for comparing and plotting"
   ]
  },
  {
   "cell_type": "code",
   "execution_count": 4,
   "metadata": {
    "collapsed": true
   },
   "outputs": [],
   "source": [
    "def analytic_y(x):\n",
    "    alpha = (np.exp(2) - 2)/(np.exp(2) - np.exp(-2))\n",
    "    return ((1 - alpha)*np.exp(x) + alpha*np.exp(-1*x))\n",
    "\n",
    "assert (np.isclose(analytic_y(0),1.0) and np.isclose(analytic_y(2),2.0)), \"y does not match boundary conditions\"  \n",
    "# Alert if y doesn't match the boundary conditions"
   ]
  },
  {
   "cell_type": "markdown",
   "metadata": {},
   "source": [
    "## We define 'defn_F' to take arguments of $y$ and $\\frac{dy}{dx}$, and return the integrand for\n",
    "## these values. This is used in both the symbolic and numerical calculations of $J$"
   ]
  },
  {
   "cell_type": "code",
   "execution_count": 5,
   "metadata": {
    "collapsed": true
   },
   "outputs": [],
   "source": [
    "def defn_F(y, y_dash):\n",
    "    return (y_dash**2 + y**2)"
   ]
  },
  {
   "cell_type": "markdown",
   "metadata": {},
   "source": [
    "# Initial Working:\n",
    "Here is the 'testing ground' for getting this whole thing to work. \n",
    "\n",
    "First I define some constants used in our problem, like boundary conditions, intervals, etc. - just so as I can easily change them when trying to expand to more general cases.\n",
    "\n",
    "Then I define two functions, 'get_J' and 'get_J_deriv_symbolic', which return the symbolic/semi-symbolic/numeric approximation of $J$, and the derivative of a symbolic/semi-symbolic $J$ approximation with respect to a given symbol. (respectively)\n",
    "\n",
    "I then define 2equivalent sets of symbolic y-points/variables; ys and ys_permanent_symbols - the idea is I will swap ys values for numeric values as they are discovered, but treat ys_permanent_symbolic as immutable so as to always have a reference t oany given symbol.\n",
    "\n",
    "I work out an initial $J$ estimate using ys; so at this point the $J$ estimate is entirely symbolic.\n",
    "A list, 'J_derivs', of $\\frac{dJ}{dy_{i}}$ is built up.\n",
    "\n",
    "These J_derivs are equated to $0$ and solved for the symbol they were differentiated w.r.t., and these new $y$ values are stored in ys_optimised_symbolic.\n",
    "\n",
    "The $y(2)=2$ boundary condition is applied to the ys list, and this is then used to update the values of the ys_optimised_symbolic list through back propogation.\n",
    "\n",
    "The $y(0)=1$ boundary condition is then applied and to the ys list, and this is then used to update ys_optimised_symbolic through forward propogation.\n",
    "\n",
    "At this point, each value in ys_optimised_symbolic is optimised symbolically, and has had it's values updated to reflect the impact of applying the boundary conditions. We now solve this list of symbolic expressions as a system of linear equations; we could do this manually, implementing Gaussian elimination or some equivalent method (QR maybe), but why bother when Sympy has an inbuilt method - linsolve. So we simply pass in our list to this, and get back the solved values! \n",
    "\n",
    "Now that we have these as numeric values, we can simply pass them into get_J to get a numeric solution for the minimised $J$ value."
   ]
  },
  {
   "cell_type": "code",
   "execution_count": 6,
   "metadata": {
    "scrolled": true
   },
   "outputs": [
    {
     "name": "stdout",
     "output_type": "stream",
     "text": [
      "[1, 0.900000000000000, 2]\n"
     ]
    },
    {
     "data": {
      "image/png": "[encoded data removed]",
      "text/latex": [
       "$$4.225$$"
      ],
      "text/plain": [
       "4.22500000000000"
      ]
     },
     "execution_count": 6,
     "metadata": {},
     "output_type": "execute_result"
    }
   ],
   "source": [
    "\"\"\"\n",
    "Notes:\n",
    ">uses Sympy, for symbolic manipulation, \n",
    "usage very similar to Mathematica.\n",
    ">Further reading available here:\n",
    "http://docs.sympy.org/latest/index.html\n",
    "\"\"\"\n",
    "num_x_pts = 3\n",
    "y_start,y_end = 1,2 # limits of integral\n",
    "a,b = 0,2\n",
    "x_pts = np.linspace(a,b,num_x_pts); # create 3 evenly-spaced points to be our x-coordinates\n",
    "h = x_pts[1]-x_pts[0]\n",
    "\n",
    "def get_J(ys, h, defn_F): # Uses 2-step finite difference method to estimate J. Works numerically & symbolically\n",
    "    J = 0\n",
    "    for i in range(len(ys)-1):\n",
    "        J += defn_F(0.5*(ys[i]+ys[i+1]),(ys[i+1]-ys[i])/h)*h\n",
    "    return sym.simplify(J)\n",
    "\n",
    "def get_J_deriv_symbolic(J_symbolic, symbol): # Returns the derivative of a symbolic J estimate, w.r.t. 'symbol'\n",
    "    return J_symbolic.diff(symbol)\n",
    "\n",
    "ys = list(sym.symbols('y:{}'.format(num_x_pts)))\n",
    "ys_permanent_symbols = sym.symbols('y:{}'.format(num_x_pts))\n",
    "J = get_J(ys, h, defn_F)\n",
    "\n",
    "J_derivs = [get_J_deriv_symbolic(J, y) for y in ys]\n",
    "ys_optimised_symbolic = [sym.solve(J_d, ys[i])[0] for i,J_d in enumerate(J_derivs)]\n",
    "\n",
    "#2nd boundary condition & back propogation:\n",
    "ys[-1] = 2\n",
    "\n",
    "for i in list(range(len(ys))[::-1]):\n",
    "    ys_optimised_symbolic = [y.subs(str(ys_permanent_symbols[i]),ys[i]) for y in ys_optimised_symbolic]\n",
    "\n",
    "#1st boundary & forward propagation:\n",
    "ys[0] = 1\n",
    "for i in range(len(ys)):\n",
    "    ys_optimised_symbolic = [y.subs(str(ys_permanent_symbols[i]),ys[i]) if not isinstance(ys[i],sym.mul.Mul) else y for y in ys_optimised_symbolic]\n",
    "\n",
    "for i,y in enumerate(ys_optimised_symbolic):\n",
    "    if not isinstance(y,sym.mul.Mul):\n",
    "        ys[i] = y\n",
    "\n",
    "ysols = [ys[i] - ys_permanent_symbols[i] for i in range(len(ys))]\n",
    "sols = linsolve(ysols,ys_permanent_symbols)#[0],ys_permanent_symbols[-1]])\n",
    "#J_derivs = [get_J_deriv_symbolic(J, y) for y in ys_permanent_symbols[1:-1]]\n",
    "#ys_optimised_symbolic = [sym.solve(J_d, ys_permanent_symbols[i])[0] for i,J_d in enumerate(J_derivs)]\n",
    "#for i in range(len(ys)):\n",
    "#    ys_optimised_symbolic = [y.subs(str(ys_permanent_symbols[i]),ys[i]) if not isinstance(ys[i],sym.mul.Mul) else y for y in ys_optimised_symbolic]\n",
    "#ys_optimised_symbolic\n",
    "sols = [s for s in sols]\n",
    "sols = sols[0]\n",
    "print([sol for sol in sols])\n",
    "J_update = get_J(sols, h, defn_F)\n",
    "J_update"
   ]
  },
  {
   "cell_type": "markdown",
   "metadata": {},
   "source": [
    "## Attempt at abstracting the above craic into a function, as a first step towards abstracting it to a more general case:"
   ]
  },
  {
   "cell_type": "code",
   "execution_count": 7,
   "metadata": {
    "collapsed": true
   },
   "outputs": [],
   "source": [
    "def magically_solve(F,n,interval_end_pts_tuple,y_end_pts_tuple):\n",
    "    num_x_pts = n\n",
    "    y_start,y_end = y_end_pts_tuple\n",
    "    a,b = interval_end_pts_tuple\n",
    "    x_pts = np.linspace(a,b,num_x_pts); \n",
    "    h = x_pts[1]-x_pts[0]\n",
    "    \n",
    "    ys = list(sym.symbols('y:{}'.format(num_x_pts)))\n",
    "    ys_permanent_symbols = sym.symbols('y:{}'.format(num_x_pts))\n",
    "    J = get_J(ys, h, F)\n",
    "    J_derivs = [get_J_deriv_symbolic(J, y) for y in ys]\n",
    "    ys_optimised_symbolic = [sym.solve(J_d, ys[i])[0] for i,J_d in enumerate(J_derivs)]\n",
    "    \n",
    "    ys[-1] = y_end\n",
    "    for i in list(range(len(ys))[::-1]):\n",
    "        ys_optimised_symbolic = [y.subs(str(ys_permanent_symbols[i]),ys[i]) for y in ys_optimised_symbolic]\n",
    "    ys[0] = y_start\n",
    "    for i in range(len(ys)):\n",
    "        ys_optimised_symbolic = [y.subs(str(ys_permanent_symbols[i]),ys[i]) if not isinstance(ys[i],(sym.mul.Mul,sym.add.Add)) else y for y in ys_optimised_symbolic]\n",
    "    for i,y in enumerate(ys_optimised_symbolic):\n",
    "        if not isinstance(y,(sym.mul.Mul)):\n",
    "            ys[i] = y\n",
    "    ysols = [ys[i] - ys_permanent_symbols[i] for i in range(len(ys))]\n",
    "    sols = [s for s in linsolve(ysols,ys_permanent_symbols)][0]\n",
    "    return get_J(sols, h, F)\n"
   ]
  },
  {
   "cell_type": "code",
   "execution_count": 8,
   "metadata": {},
   "outputs": [
    {
     "data": {
      "image/png": "[encoded data removed]",
      "text/latex": [
       "$$4.11631915514081$$"
      ],
      "text/plain": [
       "4.11631915514081"
      ]
     },
     "execution_count": 8,
     "metadata": {},
     "output_type": "execute_result"
    }
   ],
   "source": [
    "magically_solve(defn_F,5,(0,2),(1,2))"
   ]
  },
  {
   "cell_type": "markdown",
   "metadata": {},
   "source": [
    "## We now define a couple of functions to evaluate the accuracy of approximations:"
   ]
  },
  {
   "cell_type": "code",
   "execution_count": 72,
   "metadata": {
    "collapsed": true
   },
   "outputs": [],
   "source": [
    "def get_perc_diff(estimate):\n",
    "    real = analytic_J()\n",
    "    abs_diff = real - estimate\n",
    "    perc_diff = 100*abs_diff/real\n",
    "    return np.abs(perc_diff)"
   ]
  },
  {
   "cell_type": "code",
   "execution_count": 11,
   "metadata": {},
   "outputs": [
    {
     "data": {
      "image/png": "[encoded data removed]",
      "text/latex": [
       "$$0.00127249031845985$$"
      ],
      "text/plain": [
       "0.00127249031845985"
      ]
     },
     "execution_count": 11,
     "metadata": {},
     "output_type": "execute_result"
    }
   ],
   "source": [
    "get_perc_diff(J_update)"
   ]
  },
  {
   "cell_type": "code",
   "execution_count": 12,
   "metadata": {
    "collapsed": true
   },
   "outputs": [],
   "source": [
    "def get_abs_diff(estimate):\n",
    "    real = analytic_J()\n",
    "    abs_diff = real - estimate\n",
    "    return abs_diff"
   ]
  },
  {
   "cell_type": "code",
   "execution_count": 13,
   "metadata": {},
   "outputs": [
    {
     "data": {
      "image/png": "[encoded data removed]",
      "text/latex": [
       "$$-5.19645769951893 \\cdot 10^{-5}$$"
      ],
      "text/plain": [
       "-5.19645769951893e-5"
      ]
     },
     "execution_count": 13,
     "metadata": {},
     "output_type": "execute_result"
    }
   ],
   "source": [
    "get_abs_diff(J_update)"
   ]
  }
 ],
 "metadata": {
  "kernelspec": {
   "display_name": "Python 3",
   "language": "python",
   "name": "python3"
  },
  "language_info": {
   "codemirror_mode": {
    "name": "ipython",
    "version": 3
   },
   "file_extension": ".py",
   "mimetype": "text/x-python",
   "name": "python",
   "nbconvert_exporter": "python",
   "pygments_lexer": "ipython3",
   "version": "3.6.1"
  }
 },
 "nbformat": 4,
 "nbformat_minor": 1
}
